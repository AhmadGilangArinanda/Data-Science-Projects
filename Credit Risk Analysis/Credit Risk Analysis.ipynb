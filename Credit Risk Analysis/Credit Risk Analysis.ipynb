{
 "cells": [
  {
   "cell_type": "markdown",
   "id": "01076e7f",
   "metadata": {},
   "source": [
    "# Credit Risk Analysis"
   ]
  },
  {
   "cell_type": "markdown",
   "id": "87081b88",
   "metadata": {},
   "source": [
    "### Load Library"
   ]
  },
  {
   "cell_type": "code",
   "execution_count": 1,
   "id": "ee3d1368",
   "metadata": {},
   "outputs": [],
   "source": [
    "import numpy as np # linear algebra\n",
    "import pandas as pd # data processing, CSV file I/O (e.g. pd.read_csv)\n",
    "import pandas as pd\n",
    "import numpy as np \n",
    "import matplotlib\n",
    "import matplotlib.pyplot as plt \n",
    "import seaborn as sns\n",
    "from sklearn.model_selection import train_test_split\n",
    "from sklearn.preprocessing import StandardScaler\n",
    "from sklearn.ensemble import RandomForestRegressor\n",
    "from imblearn.over_sampling import RandomOverSampler\n",
    "from sklearn.metrics import classification_report, accuracy_score,precision_score,recall_score,f1_score,matthews_corrcoef\n",
    "from sklearn.metrics import confusion_matrix\n",
    "from collections import Counter\n",
    "import warnings\n",
    "warnings.filterwarnings('ignore')"
   ]
  },
  {
   "cell_type": "markdown",
   "id": "e80c9ce0",
   "metadata": {},
   "source": [
    "### Load Data"
   ]
  },
  {
   "cell_type": "code",
   "execution_count": 2,
   "id": "34e4d4c8",
   "metadata": {},
   "outputs": [],
   "source": [
    "cust_df = pd.read_csv('customer_data.csv')"
   ]
  },
  {
   "cell_type": "code",
   "execution_count": 3,
   "id": "f637c76d",
   "metadata": {},
   "outputs": [
    {
     "data": {
      "text/html": [
       "<div>\n",
       "<style scoped>\n",
       "    .dataframe tbody tr th:only-of-type {\n",
       "        vertical-align: middle;\n",
       "    }\n",
       "\n",
       "    .dataframe tbody tr th {\n",
       "        vertical-align: top;\n",
       "    }\n",
       "\n",
       "    .dataframe thead th {\n",
       "        text-align: right;\n",
       "    }\n",
       "</style>\n",
       "<table border=\"1\" class=\"dataframe\">\n",
       "  <thead>\n",
       "    <tr style=\"text-align: right;\">\n",
       "      <th></th>\n",
       "      <th>label</th>\n",
       "      <th>id</th>\n",
       "      <th>fea_1</th>\n",
       "      <th>fea_2</th>\n",
       "      <th>fea_3</th>\n",
       "      <th>fea_4</th>\n",
       "      <th>fea_5</th>\n",
       "      <th>fea_6</th>\n",
       "      <th>fea_7</th>\n",
       "      <th>fea_8</th>\n",
       "      <th>fea_9</th>\n",
       "      <th>fea_10</th>\n",
       "      <th>fea_11</th>\n",
       "    </tr>\n",
       "  </thead>\n",
       "  <tbody>\n",
       "    <tr>\n",
       "      <th>0</th>\n",
       "      <td>1</td>\n",
       "      <td>54982665</td>\n",
       "      <td>5</td>\n",
       "      <td>1245.5</td>\n",
       "      <td>3</td>\n",
       "      <td>77000.0</td>\n",
       "      <td>2</td>\n",
       "      <td>15</td>\n",
       "      <td>5</td>\n",
       "      <td>109</td>\n",
       "      <td>5</td>\n",
       "      <td>151300</td>\n",
       "      <td>244.948974</td>\n",
       "    </tr>\n",
       "    <tr>\n",
       "      <th>1</th>\n",
       "      <td>0</td>\n",
       "      <td>59004779</td>\n",
       "      <td>4</td>\n",
       "      <td>1277.0</td>\n",
       "      <td>1</td>\n",
       "      <td>113000.0</td>\n",
       "      <td>2</td>\n",
       "      <td>8</td>\n",
       "      <td>-1</td>\n",
       "      <td>100</td>\n",
       "      <td>3</td>\n",
       "      <td>341759</td>\n",
       "      <td>207.173840</td>\n",
       "    </tr>\n",
       "    <tr>\n",
       "      <th>2</th>\n",
       "      <td>0</td>\n",
       "      <td>58990862</td>\n",
       "      <td>7</td>\n",
       "      <td>1298.0</td>\n",
       "      <td>1</td>\n",
       "      <td>110000.0</td>\n",
       "      <td>2</td>\n",
       "      <td>11</td>\n",
       "      <td>-1</td>\n",
       "      <td>101</td>\n",
       "      <td>5</td>\n",
       "      <td>72001</td>\n",
       "      <td>1.000000</td>\n",
       "    </tr>\n",
       "    <tr>\n",
       "      <th>3</th>\n",
       "      <td>1</td>\n",
       "      <td>58995168</td>\n",
       "      <td>7</td>\n",
       "      <td>1335.5</td>\n",
       "      <td>1</td>\n",
       "      <td>151000.0</td>\n",
       "      <td>2</td>\n",
       "      <td>11</td>\n",
       "      <td>5</td>\n",
       "      <td>110</td>\n",
       "      <td>3</td>\n",
       "      <td>60084</td>\n",
       "      <td>1.000000</td>\n",
       "    </tr>\n",
       "    <tr>\n",
       "      <th>4</th>\n",
       "      <td>0</td>\n",
       "      <td>54987320</td>\n",
       "      <td>7</td>\n",
       "      <td>NaN</td>\n",
       "      <td>2</td>\n",
       "      <td>59000.0</td>\n",
       "      <td>2</td>\n",
       "      <td>11</td>\n",
       "      <td>5</td>\n",
       "      <td>108</td>\n",
       "      <td>4</td>\n",
       "      <td>450081</td>\n",
       "      <td>197.403141</td>\n",
       "    </tr>\n",
       "  </tbody>\n",
       "</table>\n",
       "</div>"
      ],
      "text/plain": [
       "   label        id  fea_1   fea_2  fea_3     fea_4  fea_5  fea_6  fea_7  \\\n",
       "0      1  54982665      5  1245.5      3   77000.0      2     15      5   \n",
       "1      0  59004779      4  1277.0      1  113000.0      2      8     -1   \n",
       "2      0  58990862      7  1298.0      1  110000.0      2     11     -1   \n",
       "3      1  58995168      7  1335.5      1  151000.0      2     11      5   \n",
       "4      0  54987320      7     NaN      2   59000.0      2     11      5   \n",
       "\n",
       "   fea_8  fea_9  fea_10      fea_11  \n",
       "0    109      5  151300  244.948974  \n",
       "1    100      3  341759  207.173840  \n",
       "2    101      5   72001    1.000000  \n",
       "3    110      3   60084    1.000000  \n",
       "4    108      4  450081  197.403141  "
      ]
     },
     "execution_count": 3,
     "metadata": {},
     "output_type": "execute_result"
    }
   ],
   "source": [
    "cust_df.head()"
   ]
  },
  {
   "cell_type": "code",
   "execution_count": 4,
   "id": "9b294f84",
   "metadata": {},
   "outputs": [
    {
     "data": {
      "text/plain": [
       "(1125, 13)"
      ]
     },
     "execution_count": 4,
     "metadata": {},
     "output_type": "execute_result"
    }
   ],
   "source": [
    "cust_df.shape"
   ]
  },
  {
   "cell_type": "code",
   "execution_count": 5,
   "id": "d2a685fc",
   "metadata": {},
   "outputs": [
    {
     "name": "stdout",
     "output_type": "stream",
     "text": [
      "<class 'pandas.core.frame.DataFrame'>\n",
      "RangeIndex: 1125 entries, 0 to 1124\n",
      "Data columns (total 13 columns):\n",
      " #   Column  Non-Null Count  Dtype  \n",
      "---  ------  --------------  -----  \n",
      " 0   label   1125 non-null   int64  \n",
      " 1   id      1125 non-null   int64  \n",
      " 2   fea_1   1125 non-null   int64  \n",
      " 3   fea_2   976 non-null    float64\n",
      " 4   fea_3   1125 non-null   int64  \n",
      " 5   fea_4   1125 non-null   float64\n",
      " 6   fea_5   1125 non-null   int64  \n",
      " 7   fea_6   1125 non-null   int64  \n",
      " 8   fea_7   1125 non-null   int64  \n",
      " 9   fea_8   1125 non-null   int64  \n",
      " 10  fea_9   1125 non-null   int64  \n",
      " 11  fea_10  1125 non-null   int64  \n",
      " 12  fea_11  1125 non-null   float64\n",
      "dtypes: float64(3), int64(10)\n",
      "memory usage: 114.4 KB\n"
     ]
    }
   ],
   "source": [
    "cust_df.info()"
   ]
  },
  {
   "cell_type": "code",
   "execution_count": 6,
   "id": "8ab0ba8e",
   "metadata": {
    "scrolled": true
   },
   "outputs": [
    {
     "data": {
      "text/html": [
       "<div>\n",
       "<style scoped>\n",
       "    .dataframe tbody tr th:only-of-type {\n",
       "        vertical-align: middle;\n",
       "    }\n",
       "\n",
       "    .dataframe tbody tr th {\n",
       "        vertical-align: top;\n",
       "    }\n",
       "\n",
       "    .dataframe thead th {\n",
       "        text-align: right;\n",
       "    }\n",
       "</style>\n",
       "<table border=\"1\" class=\"dataframe\">\n",
       "  <thead>\n",
       "    <tr style=\"text-align: right;\">\n",
       "      <th></th>\n",
       "      <th>label</th>\n",
       "      <th>id</th>\n",
       "      <th>fea_1</th>\n",
       "      <th>fea_2</th>\n",
       "      <th>fea_3</th>\n",
       "      <th>fea_4</th>\n",
       "      <th>fea_5</th>\n",
       "      <th>fea_6</th>\n",
       "      <th>fea_7</th>\n",
       "      <th>fea_8</th>\n",
       "      <th>fea_9</th>\n",
       "      <th>fea_10</th>\n",
       "      <th>fea_11</th>\n",
       "    </tr>\n",
       "  </thead>\n",
       "  <tbody>\n",
       "    <tr>\n",
       "      <th>count</th>\n",
       "      <td>1125.000000</td>\n",
       "      <td>1.125000e+03</td>\n",
       "      <td>1125.000000</td>\n",
       "      <td>976.000000</td>\n",
       "      <td>1125.000000</td>\n",
       "      <td>1.125000e+03</td>\n",
       "      <td>1125.000000</td>\n",
       "      <td>1125.000000</td>\n",
       "      <td>1125.000000</td>\n",
       "      <td>1125.000000</td>\n",
       "      <td>1125.000000</td>\n",
       "      <td>1125.000000</td>\n",
       "      <td>1125.000000</td>\n",
       "    </tr>\n",
       "    <tr>\n",
       "      <th>mean</th>\n",
       "      <td>0.200000</td>\n",
       "      <td>5.783677e+07</td>\n",
       "      <td>5.482667</td>\n",
       "      <td>1283.911373</td>\n",
       "      <td>2.333333</td>\n",
       "      <td>1.208836e+05</td>\n",
       "      <td>1.928889</td>\n",
       "      <td>10.872000</td>\n",
       "      <td>4.832889</td>\n",
       "      <td>100.802667</td>\n",
       "      <td>4.195556</td>\n",
       "      <td>164618.495111</td>\n",
       "      <td>134.999004</td>\n",
       "    </tr>\n",
       "    <tr>\n",
       "      <th>std</th>\n",
       "      <td>0.400178</td>\n",
       "      <td>1.817150e+06</td>\n",
       "      <td>1.383338</td>\n",
       "      <td>51.764022</td>\n",
       "      <td>0.878773</td>\n",
       "      <td>8.844523e+04</td>\n",
       "      <td>0.257125</td>\n",
       "      <td>2.676437</td>\n",
       "      <td>2.971182</td>\n",
       "      <td>11.988955</td>\n",
       "      <td>0.855679</td>\n",
       "      <td>152520.488281</td>\n",
       "      <td>112.616798</td>\n",
       "    </tr>\n",
       "    <tr>\n",
       "      <th>min</th>\n",
       "      <td>0.000000</td>\n",
       "      <td>5.498235e+07</td>\n",
       "      <td>1.000000</td>\n",
       "      <td>1116.500000</td>\n",
       "      <td>1.000000</td>\n",
       "      <td>1.500000e+04</td>\n",
       "      <td>1.000000</td>\n",
       "      <td>3.000000</td>\n",
       "      <td>-1.000000</td>\n",
       "      <td>64.000000</td>\n",
       "      <td>1.000000</td>\n",
       "      <td>60000.000000</td>\n",
       "      <td>1.000000</td>\n",
       "    </tr>\n",
       "    <tr>\n",
       "      <th>25%</th>\n",
       "      <td>0.000000</td>\n",
       "      <td>5.499050e+07</td>\n",
       "      <td>4.000000</td>\n",
       "      <td>1244.000000</td>\n",
       "      <td>1.000000</td>\n",
       "      <td>7.200000e+04</td>\n",
       "      <td>2.000000</td>\n",
       "      <td>8.000000</td>\n",
       "      <td>5.000000</td>\n",
       "      <td>90.000000</td>\n",
       "      <td>3.000000</td>\n",
       "      <td>60044.000000</td>\n",
       "      <td>1.000000</td>\n",
       "    </tr>\n",
       "    <tr>\n",
       "      <th>50%</th>\n",
       "      <td>0.000000</td>\n",
       "      <td>5.898975e+07</td>\n",
       "      <td>5.000000</td>\n",
       "      <td>1281.500000</td>\n",
       "      <td>3.000000</td>\n",
       "      <td>1.020000e+05</td>\n",
       "      <td>2.000000</td>\n",
       "      <td>11.000000</td>\n",
       "      <td>5.000000</td>\n",
       "      <td>105.000000</td>\n",
       "      <td>4.000000</td>\n",
       "      <td>72000.000000</td>\n",
       "      <td>173.205081</td>\n",
       "    </tr>\n",
       "    <tr>\n",
       "      <th>75%</th>\n",
       "      <td>0.000000</td>\n",
       "      <td>5.899799e+07</td>\n",
       "      <td>7.000000</td>\n",
       "      <td>1314.500000</td>\n",
       "      <td>3.000000</td>\n",
       "      <td>1.390000e+05</td>\n",
       "      <td>2.000000</td>\n",
       "      <td>11.000000</td>\n",
       "      <td>5.000000</td>\n",
       "      <td>111.000000</td>\n",
       "      <td>5.000000</td>\n",
       "      <td>151307.000000</td>\n",
       "      <td>202.484567</td>\n",
       "    </tr>\n",
       "    <tr>\n",
       "      <th>max</th>\n",
       "      <td>1.000000</td>\n",
       "      <td>5.900624e+07</td>\n",
       "      <td>7.000000</td>\n",
       "      <td>1481.000000</td>\n",
       "      <td>3.000000</td>\n",
       "      <td>1.200000e+06</td>\n",
       "      <td>2.000000</td>\n",
       "      <td>16.000000</td>\n",
       "      <td>10.000000</td>\n",
       "      <td>115.000000</td>\n",
       "      <td>5.000000</td>\n",
       "      <td>650070.000000</td>\n",
       "      <td>707.106781</td>\n",
       "    </tr>\n",
       "  </tbody>\n",
       "</table>\n",
       "</div>"
      ],
      "text/plain": [
       "             label            id        fea_1        fea_2        fea_3  \\\n",
       "count  1125.000000  1.125000e+03  1125.000000   976.000000  1125.000000   \n",
       "mean      0.200000  5.783677e+07     5.482667  1283.911373     2.333333   \n",
       "std       0.400178  1.817150e+06     1.383338    51.764022     0.878773   \n",
       "min       0.000000  5.498235e+07     1.000000  1116.500000     1.000000   \n",
       "25%       0.000000  5.499050e+07     4.000000  1244.000000     1.000000   \n",
       "50%       0.000000  5.898975e+07     5.000000  1281.500000     3.000000   \n",
       "75%       0.000000  5.899799e+07     7.000000  1314.500000     3.000000   \n",
       "max       1.000000  5.900624e+07     7.000000  1481.000000     3.000000   \n",
       "\n",
       "              fea_4        fea_5        fea_6        fea_7        fea_8  \\\n",
       "count  1.125000e+03  1125.000000  1125.000000  1125.000000  1125.000000   \n",
       "mean   1.208836e+05     1.928889    10.872000     4.832889   100.802667   \n",
       "std    8.844523e+04     0.257125     2.676437     2.971182    11.988955   \n",
       "min    1.500000e+04     1.000000     3.000000    -1.000000    64.000000   \n",
       "25%    7.200000e+04     2.000000     8.000000     5.000000    90.000000   \n",
       "50%    1.020000e+05     2.000000    11.000000     5.000000   105.000000   \n",
       "75%    1.390000e+05     2.000000    11.000000     5.000000   111.000000   \n",
       "max    1.200000e+06     2.000000    16.000000    10.000000   115.000000   \n",
       "\n",
       "             fea_9         fea_10       fea_11  \n",
       "count  1125.000000    1125.000000  1125.000000  \n",
       "mean      4.195556  164618.495111   134.999004  \n",
       "std       0.855679  152520.488281   112.616798  \n",
       "min       1.000000   60000.000000     1.000000  \n",
       "25%       3.000000   60044.000000     1.000000  \n",
       "50%       4.000000   72000.000000   173.205081  \n",
       "75%       5.000000  151307.000000   202.484567  \n",
       "max       5.000000  650070.000000   707.106781  "
      ]
     },
     "execution_count": 6,
     "metadata": {},
     "output_type": "execute_result"
    }
   ],
   "source": [
    "cust_df.describe()"
   ]
  },
  {
   "cell_type": "markdown",
   "id": "4d4c31f5",
   "metadata": {},
   "source": [
    "### Data Preprocessing"
   ]
  },
  {
   "cell_type": "code",
   "execution_count": 7,
   "id": "035f8152",
   "metadata": {
    "scrolled": false
   },
   "outputs": [
    {
     "name": "stdout",
     "output_type": "stream",
     "text": [
      "label       0\n",
      "id          0\n",
      "fea_1       0\n",
      "fea_2     149\n",
      "fea_3       0\n",
      "fea_4       0\n",
      "fea_5       0\n",
      "fea_6       0\n",
      "fea_7       0\n",
      "fea_8       0\n",
      "fea_9       0\n",
      "fea_10      0\n",
      "fea_11      0\n",
      "dtype: int64\n"
     ]
    }
   ],
   "source": [
    "print(cust_df.isnull().sum())"
   ]
  },
  {
   "cell_type": "code",
   "execution_count": 8,
   "id": "264b3f53",
   "metadata": {},
   "outputs": [
    {
     "data": {
      "text/plain": [
       "0    900\n",
       "1    225\n",
       "Name: label, dtype: int64"
      ]
     },
     "execution_count": 8,
     "metadata": {},
     "output_type": "execute_result"
    }
   ],
   "source": [
    "cust_df[\"label\"].value_counts()"
   ]
  },
  {
   "cell_type": "code",
   "execution_count": 9,
   "id": "45826766",
   "metadata": {},
   "outputs": [
    {
     "data": {
      "text/plain": [
       "0.25"
      ]
     },
     "execution_count": 9,
     "metadata": {},
     "output_type": "execute_result"
    }
   ],
   "source": [
    "low_risk=cust_df[cust_df[\"label\"]==0]\n",
    "high_risk=cust_df[cust_df[\"label\"]==1]\n",
    "frac=len(high_risk)/float(len(low_risk))\n",
    "frac"
   ]
  },
  {
   "cell_type": "code",
   "execution_count": 10,
   "id": "1c919d37",
   "metadata": {},
   "outputs": [
    {
     "data": {
      "image/png": "[encoded data removed]",
      "text/plain": [
       "<Figure size 432x288 with 1 Axes>"
      ]
     },
     "metadata": {},
     "output_type": "display_data"
    }
   ],
   "source": [
    "#visualising the \"label\" column \n",
    "plt.pie(cust_df[\"label\"].value_counts(),labels = [\"Not Risk\",\"Risk\"],colors = [\"g\",\"r\"],shadow = True)\n",
    "plt.legend(title =\"Credit Risk\")\n",
    "plt.show() \n",
    "#This shows that the dataset is Imbalanced\n"
   ]
  },
  {
   "cell_type": "code",
   "execution_count": 11,
   "id": "d204164d",
   "metadata": {},
   "outputs": [
    {
     "data": {
      "image/png": "[encoded data removed]",
      "text/plain": [
       "<Figure size 864x648 with 2 Axes>"
      ]
     },
     "metadata": {
      "needs_background": "light"
     },
     "output_type": "display_data"
    }
   ],
   "source": [
    "#Correlation Matrix\n",
    "\n",
    "correlation_matrix = cust_df.corr()\n",
    "fig = plt.figure(figsize=(12,9))\n",
    "sns.heatmap(correlation_matrix,annot=True,square=True, linewidths=.5,cmap=plt.cm.Reds)\n",
    "plt.show()"
   ]
  },
  {
   "cell_type": "code",
   "execution_count": 12,
   "id": "b70a5c9e",
   "metadata": {},
   "outputs": [
    {
     "data": {
      "text/html": [
       "<div>\n",
       "<style scoped>\n",
       "    .dataframe tbody tr th:only-of-type {\n",
       "        vertical-align: middle;\n",
       "    }\n",
       "\n",
       "    .dataframe tbody tr th {\n",
       "        vertical-align: top;\n",
       "    }\n",
       "\n",
       "    .dataframe thead th {\n",
       "        text-align: right;\n",
       "    }\n",
       "</style>\n",
       "<table border=\"1\" class=\"dataframe\">\n",
       "  <thead>\n",
       "    <tr style=\"text-align: right;\">\n",
       "      <th></th>\n",
       "      <th>id</th>\n",
       "      <th>fea_1</th>\n",
       "      <th>fea_2</th>\n",
       "      <th>fea_3</th>\n",
       "      <th>fea_4</th>\n",
       "      <th>fea_5</th>\n",
       "      <th>fea_6</th>\n",
       "      <th>fea_7</th>\n",
       "      <th>fea_8</th>\n",
       "      <th>fea_9</th>\n",
       "      <th>fea_10</th>\n",
       "      <th>fea_11</th>\n",
       "    </tr>\n",
       "  </thead>\n",
       "  <tbody>\n",
       "    <tr>\n",
       "      <th>0</th>\n",
       "      <td>54982665</td>\n",
       "      <td>5</td>\n",
       "      <td>1245.5</td>\n",
       "      <td>3</td>\n",
       "      <td>77000.0</td>\n",
       "      <td>2</td>\n",
       "      <td>15</td>\n",
       "      <td>5</td>\n",
       "      <td>109</td>\n",
       "      <td>5</td>\n",
       "      <td>151300</td>\n",
       "      <td>244.948974</td>\n",
       "    </tr>\n",
       "    <tr>\n",
       "      <th>1</th>\n",
       "      <td>59004779</td>\n",
       "      <td>4</td>\n",
       "      <td>1277.0</td>\n",
       "      <td>1</td>\n",
       "      <td>113000.0</td>\n",
       "      <td>2</td>\n",
       "      <td>8</td>\n",
       "      <td>-1</td>\n",
       "      <td>100</td>\n",
       "      <td>3</td>\n",
       "      <td>341759</td>\n",
       "      <td>207.173840</td>\n",
       "    </tr>\n",
       "    <tr>\n",
       "      <th>2</th>\n",
       "      <td>58990862</td>\n",
       "      <td>7</td>\n",
       "      <td>1298.0</td>\n",
       "      <td>1</td>\n",
       "      <td>110000.0</td>\n",
       "      <td>2</td>\n",
       "      <td>11</td>\n",
       "      <td>-1</td>\n",
       "      <td>101</td>\n",
       "      <td>5</td>\n",
       "      <td>72001</td>\n",
       "      <td>1.000000</td>\n",
       "    </tr>\n",
       "    <tr>\n",
       "      <th>3</th>\n",
       "      <td>58995168</td>\n",
       "      <td>7</td>\n",
       "      <td>1335.5</td>\n",
       "      <td>1</td>\n",
       "      <td>151000.0</td>\n",
       "      <td>2</td>\n",
       "      <td>11</td>\n",
       "      <td>5</td>\n",
       "      <td>110</td>\n",
       "      <td>3</td>\n",
       "      <td>60084</td>\n",
       "      <td>1.000000</td>\n",
       "    </tr>\n",
       "    <tr>\n",
       "      <th>4</th>\n",
       "      <td>54987320</td>\n",
       "      <td>7</td>\n",
       "      <td>NaN</td>\n",
       "      <td>2</td>\n",
       "      <td>59000.0</td>\n",
       "      <td>2</td>\n",
       "      <td>11</td>\n",
       "      <td>5</td>\n",
       "      <td>108</td>\n",
       "      <td>4</td>\n",
       "      <td>450081</td>\n",
       "      <td>197.403141</td>\n",
       "    </tr>\n",
       "  </tbody>\n",
       "</table>\n",
       "</div>"
      ],
      "text/plain": [
       "         id  fea_1   fea_2  fea_3     fea_4  fea_5  fea_6  fea_7  fea_8  \\\n",
       "0  54982665      5  1245.5      3   77000.0      2     15      5    109   \n",
       "1  59004779      4  1277.0      1  113000.0      2      8     -1    100   \n",
       "2  58990862      7  1298.0      1  110000.0      2     11     -1    101   \n",
       "3  58995168      7  1335.5      1  151000.0      2     11      5    110   \n",
       "4  54987320      7     NaN      2   59000.0      2     11      5    108   \n",
       "\n",
       "   fea_9  fea_10      fea_11  \n",
       "0      5  151300  244.948974  \n",
       "1      3  341759  207.173840  \n",
       "2      5   72001    1.000000  \n",
       "3      3   60084    1.000000  \n",
       "4      4  450081  197.403141  "
      ]
     },
     "execution_count": 12,
     "metadata": {},
     "output_type": "execute_result"
    }
   ],
   "source": [
    "y=cust_df[\"label\"]\n",
    "x=cust_df.copy()\n",
    "x.drop(columns=[\"label\"],inplace=True)\n",
    "x.head()"
   ]
  },
  {
   "cell_type": "code",
   "execution_count": 13,
   "id": "c6298318",
   "metadata": {},
   "outputs": [
    {
     "name": "stdout",
     "output_type": "stream",
     "text": [
      "id        0\n",
      "fea_1     0\n",
      "fea_2     0\n",
      "fea_3     0\n",
      "fea_4     0\n",
      "fea_5     0\n",
      "fea_6     0\n",
      "fea_7     0\n",
      "fea_8     0\n",
      "fea_9     0\n",
      "fea_10    0\n",
      "fea_11    0\n",
      "dtype: int64\n",
      "(1125, 12) (1125,)\n"
     ]
    }
   ],
   "source": [
    "#handeling missing data (replace all missing values with mean value of that column)\n",
    "x[\"fea_2\"].fillna(x[\"fea_2\"].mean(),inplace=True)\n",
    "print(x.isnull().sum())\n",
    "print(x.shape,y.shape)"
   ]
  },
  {
   "cell_type": "markdown",
   "id": "ebbe4eb1",
   "metadata": {},
   "source": [
    "Confusion matrix accuracy is not meaningful for unbalanced classification,since the dataset is unbalanced.so make it balanced before building a model"
   ]
  },
  {
   "cell_type": "markdown",
   "id": "019e4124",
   "metadata": {},
   "source": [
    "### Balancing the dataset"
   ]
  },
  {
   "cell_type": "code",
   "execution_count": 14,
   "id": "b4c09c75",
   "metadata": {},
   "outputs": [
    {
     "name": "stdout",
     "output_type": "stream",
     "text": [
      " New 'x' has (1530, 12)         New 'Y' has (1530,)\n",
      "Original dataset shape Counter({0: 900, 1: 225})\n",
      "Resampled dataset shape Counter({0: 900, 1: 630})\n"
     ]
    }
   ],
   "source": [
    "os =  RandomOverSampler(0.7)\n",
    "X_train_res, y_train_res = os.fit_resample(x, y)\n",
    "print(\" New 'x' has\",X_train_res.shape,\"        New 'Y' has\",y_train_res.shape)\n",
    "print('Original dataset shape {}'.format(Counter(y)))\n",
    "print('Resampled dataset shape {}'.format(Counter(y_train_res)))"
   ]
  },
  {
   "cell_type": "code",
   "execution_count": 15,
   "id": "9f3e9ed8",
   "metadata": {},
   "outputs": [],
   "source": [
    "#np.random.seed(123)\n",
    "X_train, X_test, y_train, y_test = train_test_split(X_train_res, y_train_res, train_size = 0.70, test_size = 0.30, random_state = 1)\n",
    "sc = StandardScaler()\n",
    "X_train = sc.fit_transform(X_train)\n",
    "X_test = sc.transform(X_test)"
   ]
  },
  {
   "cell_type": "code",
   "execution_count": 16,
   "id": "bf2ef237",
   "metadata": {},
   "outputs": [
    {
     "name": "stdout",
     "output_type": "stream",
     "text": [
      "[0.06 0.53 0.12 1.   0.31 0.19 0.48 0.01 0.4  0.67 0.75 0.42 1.   0.94\n",
      " 0.16 0.32 0.24 0.92 0.86 0.25 0.17 0.23 0.42 0.74 0.35 0.2  0.87 0.03\n",
      " 0.73 0.71 0.72 0.99 0.24 0.72 0.92 0.37 0.2  0.19 0.97 0.24 0.29 0.63\n",
      " 0.23 0.26 0.73 0.28 0.92 0.18 0.15 0.2  0.24 0.46 0.15 0.11 0.98 0.64\n",
      " 0.95 0.24 0.72 0.15 0.37 0.4  0.98 0.43 0.61 0.37 0.92 0.57 0.25 0.21\n",
      " 0.33 0.74 0.37 0.29 0.68 0.07 0.95 0.1  0.2  0.81 0.44 0.99 0.97 0.43\n",
      " 0.2  0.09 0.14 0.95 0.13 0.31 0.23 0.16 0.11 0.72 0.87 0.33 0.64 0.04\n",
      " 0.63 0.32 0.9  0.17 0.37 0.08 0.92 0.95 0.97 0.11 0.63 0.39 0.92 0.99\n",
      " 0.17 0.84 0.13 0.68 0.36 0.96 0.3  0.9  0.17 0.2  0.94 0.83 0.05 0.18\n",
      " 0.25 0.38 0.37 0.05 0.2  0.16 0.45 0.37 0.57 0.33 0.14 0.9  0.68 0.99\n",
      " 0.25 0.21 0.11 0.73 0.17 0.13 0.27 0.62 0.84 0.08 0.99 0.53 0.37 0.3\n",
      " 0.75 0.62 0.67 0.76 0.41 0.16 0.22 0.41 0.99 0.16 0.14 0.12 0.49 0.13\n",
      " 0.3  0.16 0.71 0.75 0.31 0.48 0.46 0.1  0.68 0.64 0.51 0.89 0.99 0.98\n",
      " 0.99 0.74 0.88 0.32 0.26 0.79 0.75 1.   0.31 0.68 0.83 0.84 0.52 0.13\n",
      " 0.24 0.96 0.28 0.37 0.17 0.99 0.42 0.13 0.19 0.99 0.38 0.23 0.08 0.74\n",
      " 0.38 0.96 0.39 0.18 0.93 0.13 0.85 0.07 0.17 0.27 0.96 0.93 0.15 0.5\n",
      " 0.48 0.86 0.17 0.37 0.81 0.78 0.81 0.75 0.99 1.   0.1  0.98 0.33 1.\n",
      " 0.99 0.17 0.16 0.32 0.81 0.39 0.54 0.36 0.96 0.96 0.98 0.22 0.99 0.68\n",
      " 0.99 0.92 0.51 0.52 0.11 0.25 0.18 0.93 0.19 0.72 0.94 0.18 0.49 0.91\n",
      " 0.86 0.14 0.3  0.41 0.96 0.54 0.21 0.16 0.75 0.8  0.78 0.21 0.93 0.79\n",
      " 0.95 0.62 0.18 0.05 0.21 0.74 0.98 0.94 0.78 0.2  0.15 0.75 0.14 0.78\n",
      " 0.97 0.8  0.05 0.17 0.24 0.09 0.2  0.36 0.3  0.08 0.28 0.63 0.99 0.98\n",
      " 0.12 0.43 0.94 0.37 0.19 0.14 0.66 0.18 0.3  0.31 0.18 0.17 0.51 0.32\n",
      " 0.46 0.4  0.75 0.18 0.85 0.95 0.12 0.19 0.05 0.53 0.32 0.32 0.75 1.\n",
      " 0.71 0.96 0.21 0.2  0.31 0.26 0.22 0.79 0.39 0.21 0.34 0.91 0.46 0.91\n",
      " 0.64 0.8  0.74 0.33 0.23 0.22 0.09 0.75 0.37 0.73 0.24 0.74 0.97 0.07\n",
      " 0.28 0.17 0.1  0.2  0.12 0.96 0.06 0.38 1.   0.91 0.48 0.26 0.09 0.9\n",
      " 0.8  0.32 0.34 0.2  0.1  0.37 0.31 0.51 0.16 0.09 0.87 0.29 0.12 0.91\n",
      " 0.45 0.8  0.93 0.71 0.11 0.13 0.68 0.18 0.75 0.51 0.98 0.18 0.36 0.2\n",
      " 0.4  0.92 0.9  0.17 0.54 0.42 0.03 0.4  0.23 0.78 0.38 0.13 0.21 0.22\n",
      " 0.17 0.12 0.18 0.74 0.22 0.75 0.75 0.3  0.67 0.42 0.3  0.09 0.4  0.97\n",
      " 0.14 0.39 0.95 0.58 0.61 0.13 0.31 0.71 0.16 0.78 0.94 0.27 0.81 0.51\n",
      " 0.28 0.15 0.46 0.67 0.87 0.25 0.23 0.11 0.1  0.48 0.8 ]\n"
     ]
    }
   ],
   "source": [
    "forest_model = RandomForestRegressor(random_state=1)\n",
    "forest_model.fit(X_train, y_train)\n",
    "# predictions\n",
    "y_pred =forest_model.predict(X_test)\n",
    "print(y_pred)"
   ]
  },
  {
   "cell_type": "code",
   "execution_count": 17,
   "id": "9d22d191",
   "metadata": {},
   "outputs": [
    {
     "data": {
      "image/png": "[encoded data removed]",
      "text/plain": [
       "<Figure size 432x288 with 2 Axes>"
      ]
     },
     "metadata": {
      "needs_background": "light"
     },
     "output_type": "display_data"
    }
   ],
   "source": [
    "#printing the confusion matrix\n",
    "#n_outliers = len(high_risk)\n",
    "n_errors = (y_pred != y_test).sum()\n",
    "LABELS = ['GOOD', 'BAD']\n",
    "conf_matrix = confusion_matrix(y_test, y_pred.round())\n",
    "plt.figure(figsize=(6, 4))\n",
    "sns.heatmap(conf_matrix, xticklabels=LABELS, yticklabels=LABELS, annot=True, fmt=\"d\");\n",
    "plt.title(\"Confusion matrix\")\n",
    "plt.ylabel('True class')\n",
    "plt.xlabel('Predicted class')\n",
    "plt.show()"
   ]
  },
  {
   "cell_type": "code",
   "execution_count": 18,
   "id": "a5d17dfc",
   "metadata": {
    "scrolled": true
   },
   "outputs": [
    {
     "name": "stdout",
     "output_type": "stream",
     "text": [
      "Random Forest: 452\n",
      "Accuracy Score : 0.8910675381263616\n",
      "              precision    recall  f1-score   support\n",
      "\n",
      "           0       0.90      0.91      0.90       260\n",
      "           1       0.88      0.86      0.87       199\n",
      "\n",
      "    accuracy                           0.89       459\n",
      "   macro avg       0.89      0.89      0.89       459\n",
      "weighted avg       0.89      0.89      0.89       459\n",
      "\n"
     ]
    },
    {
     "data": {
      "text/plain": [
       "<Figure size 648x504 with 0 Axes>"
      ]
     },
     "metadata": {},
     "output_type": "display_data"
    }
   ],
   "source": [
    "# Run classification metrics\n",
    "plt.figure(figsize=(9, 7))\n",
    "print('{}: {}'.format(\"Random Forest\", n_errors))\n",
    "print('Accuracy Score :',accuracy_score(y_test, y_pred.round()))\n",
    "print(classification_report(y_test, y_pred.round()))"
   ]
  },
  {
   "cell_type": "code",
   "execution_count": 19,
   "id": "0b535a6c",
   "metadata": {},
   "outputs": [
    {
     "data": {
      "text/html": [
       "<div>\n",
       "<style scoped>\n",
       "    .dataframe tbody tr th:only-of-type {\n",
       "        vertical-align: middle;\n",
       "    }\n",
       "\n",
       "    .dataframe tbody tr th {\n",
       "        vertical-align: top;\n",
       "    }\n",
       "\n",
       "    .dataframe thead th {\n",
       "        text-align: right;\n",
       "    }\n",
       "</style>\n",
       "<table border=\"1\" class=\"dataframe\">\n",
       "  <thead>\n",
       "    <tr style=\"text-align: right;\">\n",
       "      <th></th>\n",
       "      <th>Score (%)</th>\n",
       "    </tr>\n",
       "  </thead>\n",
       "  <tbody>\n",
       "    <tr>\n",
       "      <th>accuracy</th>\n",
       "      <td>89.106754</td>\n",
       "    </tr>\n",
       "    <tr>\n",
       "      <th>recall</th>\n",
       "      <td>86.432161</td>\n",
       "    </tr>\n",
       "    <tr>\n",
       "      <th>precision</th>\n",
       "      <td>88.205128</td>\n",
       "    </tr>\n",
       "    <tr>\n",
       "      <th>f1_score</th>\n",
       "      <td>87.309645</td>\n",
       "    </tr>\n",
       "  </tbody>\n",
       "</table>\n",
       "</div>"
      ],
      "text/plain": [
       "           Score (%)\n",
       "accuracy   89.106754\n",
       "recall     86.432161\n",
       "precision  88.205128\n",
       "f1_score   87.309645"
      ]
     },
     "execution_count": 19,
     "metadata": {},
     "output_type": "execute_result"
    }
   ],
   "source": [
    "pd.DataFrame(data = [accuracy_score(y_test, y_pred.round())*100, recall_score(y_test, y_pred.round())*100, precision_score(y_test, y_pred.round())*100, f1_score(y_test, y_pred.round())*100],\n",
    "            index = ['accuracy', 'recall', 'precision', 'f1_score'],\n",
    "             columns = ['Score (%)']\n",
    "            )"
   ]
  }
 ],
 "metadata": {
  "kernelspec": {
   "display_name": "Python 3 (ipykernel)",
   "language": "python",
   "name": "python3"
  },
  "language_info": {
   "codemirror_mode": {
    "name": "ipython",
    "version": 3
   },
   "file_extension": ".py",
   "mimetype": "text/x-python",
   "name": "python",
   "nbconvert_exporter": "python",
   "pygments_lexer": "ipython3",
   "version": "3.10.2"
  }
 },
 "nbformat": 4,
 "nbformat_minor": 5
}

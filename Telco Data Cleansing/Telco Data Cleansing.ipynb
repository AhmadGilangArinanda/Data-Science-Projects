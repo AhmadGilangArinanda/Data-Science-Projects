{
 "cells": [
  {
   "cell_type": "markdown",
   "id": "dad7b41c",
   "metadata": {},
   "source": [
    "# Telco: Data Cleansing"
   ]
  },
  {
   "cell_type": "markdown",
   "id": "07f7f61d",
   "metadata": {},
   "source": [
    "### Load Library"
   ]
  },
  {
   "cell_type": "code",
   "execution_count": 33,
   "id": "cce653e8",
   "metadata": {},
   "outputs": [],
   "source": [
    "#import library\n",
    "import pandas as pd\n",
    "import matplotlib.pyplot as plt\n",
    "import seaborn as sns"
   ]
  },
  {
   "cell_type": "markdown",
   "id": "57e357cd",
   "metadata": {},
   "source": [
    "### Load Data"
   ]
  },
  {
   "cell_type": "code",
   "execution_count": 34,
   "id": "a13c9f58",
   "metadata": {},
   "outputs": [
    {
     "name": "stdout",
     "output_type": "stream",
     "text": [
      "(7113, 23)\n",
      "   Unnamed: 0  UpdatedAt   customerID  gender  SeniorCitizen Partner  \\\n",
      "0           0     202006  45759018157  Female              0     Yes   \n",
      "1           1     202006  45557574145    Male              0      No   \n",
      "2           2     202006  45366876421    Male              0      No   \n",
      "3           3     202006  45779536532    Male              0      No   \n",
      "4           4     202006  45923787906  Female              0      No   \n",
      "\n",
      "  Dependents  tenure PhoneService     MultipleLines InternetService  \\\n",
      "0         No     1.0           No  No phone service             DSL   \n",
      "1         No    34.0          Yes                No             DSL   \n",
      "2         No     2.0          Yes                No             DSL   \n",
      "3         No    45.0           No  No phone service             DSL   \n",
      "4         No     2.0          Yes                No     Fiber optic   \n",
      "\n",
      "  OnlineSecurity OnlineBackup DeviceProtection TechSupport StreamingTV  \\\n",
      "0             No          Yes               No          No          No   \n",
      "1            Yes           No              Yes          No          No   \n",
      "2            Yes          Yes               No          No          No   \n",
      "3            Yes           No              Yes         Yes          No   \n",
      "4             No           No               No          No          No   \n",
      "\n",
      "  StreamingMovies        Contract PaperlessBilling              PaymentMethod  \\\n",
      "0              No  Month-to-month              Yes           Electronic check   \n",
      "1              No        One year               No               Mailed check   \n",
      "2              No  Month-to-month              Yes               Mailed check   \n",
      "3              No        One year               No  Bank transfer (automatic)   \n",
      "4              No  Month-to-month              Yes           Electronic check   \n",
      "\n",
      "   MonthlyCharges  TotalCharges Churn  \n",
      "0           29.85         29.85    No  \n",
      "1           56.95       1889.50    No  \n",
      "2           53.85        108.15   Yes  \n",
      "3           42.30       1840.75    No  \n",
      "4           70.70        151.65   Yes  \n",
      "7017\n"
     ]
    }
   ],
   "source": [
    "pd.options.display.max_columns = 50 \n",
    "\n",
    "#import dataset\n",
    "df_load = pd.read_csv('Telco Data Cleansing.csv')\n",
    "\n",
    "#Show number of rows and columns\n",
    "print(df_load.shape)\n",
    "\n",
    "#Show top 5 data\n",
    "print(df_load.head(5))\n",
    "\n",
    "#Number of unique IDs\n",
    "print(df_load.customerID.nunique())"
   ]
  },
  {
   "cell_type": "markdown",
   "id": "574cdebb",
   "metadata": {},
   "source": [
    "### Filtering Certain Format Customer ID Numbers\n",
    "\n",
    "Look for the correct __customerID__ (Phone Number) format, with the following criteria:\n",
    "\n",
    "1. Character length is 11-12\n",
    "2. Consists of numbers only\n",
    "3. Starting with the number 45 the first 2 digits\n"
   ]
  },
  {
   "cell_type": "code",
   "execution_count": 35,
   "id": "732cd70e",
   "metadata": {},
   "outputs": [
    {
     "name": "stdout",
     "output_type": "stream",
     "text": [
      "The filtered result the number of Customer IDs is 7006\n"
     ]
    }
   ],
   "source": [
    "df_load['valid_id'] = df_load['customerID'].astype(str).str.match(r'(45\\d{9,10})')\n",
    "\n",
    "df_load = (df_load[df_load['valid_id'] == True]).drop('valid_id', axis = 1)\n",
    "\n",
    "print('The filtered result the number of Customer IDs is', df_load['customerID'].count())"
   ]
  },
  {
   "cell_type": "markdown",
   "id": "dfa2aa3c",
   "metadata": {},
   "source": [
    "### Filtering Duplicate Customer ID Numbers\n",
    "\n",
    "Ensure that there are no duplicate customer ID numbers. Usually this type of duplicate ID number:\n",
    "1. Duplication due to inserting more than once with the same value in each column\n",
    "2. Duplication due to inserting different data retrieval periods"
   ]
  },
  {
   "cell_type": "code",
   "execution_count": 36,
   "id": "dce0dcb6",
   "metadata": {},
   "outputs": [
    {
     "name": "stdout",
     "output_type": "stream",
     "text": [
      "The result of the number of Customer IDs that have been removed from duplication (distinct) is 6993\n"
     ]
    }
   ],
   "source": [
    "# Drop Duplicate Rows\n",
    "df_load.drop_duplicates()\n",
    "\n",
    "# Drop duplicate ID sorted by Periode\n",
    "df_load = df_load.sort_values('UpdatedAt', ascending=False).drop_duplicates('customerID')\n",
    "print('The result of the number of Customer IDs that have been removed from duplication (distinct) is',df_load['customerID'].count())"
   ]
  },
  {
   "cell_type": "markdown",
   "id": "3b4fe13a",
   "metadata": {},
   "source": [
    "### Resolving Missing Values by Deleting Rows\n"
   ]
  },
  {
   "cell_type": "code",
   "execution_count": 37,
   "id": "2218913b",
   "metadata": {},
   "outputs": [
    {
     "name": "stdout",
     "output_type": "stream",
     "text": [
      "Total missing values data from the Churn column 43\n",
      "Total Rows and Data column after deleting Missing Values data is (6950, 23)\n"
     ]
    }
   ],
   "source": [
    "print('Total missing values data from the Churn column', df_load['Churn'].isnull().sum())\n",
    "\n",
    "# Dropping all Rows with spesific column (churn)\n",
    "df_load.dropna(subset=['Churn'], inplace=True)\n",
    "print('Total Rows and Data column after deleting Missing Values data is', df_load.shape)"
   ]
  },
  {
   "cell_type": "markdown",
   "id": "06ac0f25",
   "metadata": {},
   "source": [
    "### Detecting Outliers (Boxplot)"
   ]
  },
  {
   "cell_type": "code",
   "execution_count": 38,
   "id": "5cfcb458",
   "metadata": {
    "scrolled": true
   },
   "outputs": [
    {
     "name": "stdout",
     "output_type": "stream",
     "text": [
      "\n",
      "Distribution of data before being handled by Outliers: \n",
      "            tenure  MonthlyCharges  TotalCharges\n",
      "count  6851.000000     6924.000000   6935.000000\n",
      "mean     32.787622       65.766219   2307.039265\n",
      "std      25.236643       50.551720   2581.095419\n",
      "min       0.000000        0.000000     19.000000\n",
      "25%       9.000000       36.087500    404.975000\n",
      "50%      30.000000       70.450000   1400.850000\n",
      "75%      56.000000       89.900000   3807.675000\n",
      "max     500.000000     2311.000000  80000.000000\n"
     ]
    },
    {
     "data": {
      "image/png": "[encoded data removed]",
      "text/plain": [
       "<Figure size 432x288 with 1 Axes>"
      ]
     },
     "metadata": {
      "needs_background": "light"
     },
     "output_type": "display_data"
    },
    {
     "data": {
      "image/png": "[encoded data removed]",
      "text/plain": [
       "<Figure size 432x288 with 1 Axes>"
      ]
     },
     "metadata": {
      "needs_background": "light"
     },
     "output_type": "display_data"
    },
    {
     "data": {
      "image/png": "[encoded data removed]",
      "text/plain": [
       "<Figure size 432x288 with 1 Axes>"
      ]
     },
     "metadata": {
      "needs_background": "light"
     },
     "output_type": "display_data"
    }
   ],
   "source": [
    "print('\\nDistribution of data before being handled by Outliers: ')\n",
    "print(df_load[['tenure','MonthlyCharges','TotalCharges']].describe())\n",
    "\n",
    "#Before\n",
    "\n",
    "plt.figure() \n",
    "sns.boxplot(x=df_load['tenure'])\n",
    "plt.show()\n",
    "plt.figure() \n",
    "sns.boxplot(x=df_load['MonthlyCharges'])\n",
    "plt.show()\n",
    "plt.figure() \n",
    "sns.boxplot(x=df_load['TotalCharges'])\n",
    "plt.show()"
   ]
  },
  {
   "cell_type": "code",
   "execution_count": 39,
   "id": "2749108e",
   "metadata": {},
   "outputs": [
    {
     "name": "stdout",
     "output_type": "stream",
     "text": [
      "The Maximum Value of each Variable is: \n",
      "tenure             126.50000\n",
      "MonthlyCharges     170.61875\n",
      "TotalCharges      8911.72500\n",
      "dtype: float64\n",
      "\n",
      "The Minimum Value of each Variable is: \n",
      "tenure             -61.50000\n",
      "MonthlyCharges     -44.63125\n",
      "TotalCharges     -4699.07500\n",
      "dtype: float64\n",
      "\n",
      "Distribution of data after being handled by Outliers: \n"
     ]
    },
    {
     "name": "stderr",
     "output_type": "stream",
     "text": [
      "C:\\Users\\Ahmad Gilang A\\AppData\\Local\\Temp\\ipykernel_5224\\3235440132.py:14: FutureWarning: Automatic reindexing on DataFrame vs Series comparisons is deprecated and will raise ValueError in a future version. Do `left, right = left.align(right, axis=1, copy=False)` before e.g. `left == right`\n",
      "  more_than = (df_load > maximum)\n",
      "C:\\Users\\Ahmad Gilang A\\AppData\\Local\\Temp\\ipykernel_5224\\3235440132.py:15: FutureWarning: Automatic reindexing on DataFrame vs Series comparisons is deprecated and will raise ValueError in a future version. Do `left, right = left.align(right, axis=1, copy=False)` before e.g. `left == right`\n",
      "  lower_than = (df_load < minimum)\n"
     ]
    },
    {
     "name": "stdout",
     "output_type": "stream",
     "text": [
      "            tenure  MonthlyCharges  TotalCharges\n",
      "count  6851.000000     6924.000000   6935.000000\n",
      "mean     32.733105       64.972004   2287.979921\n",
      "std      24.623169       30.087558   2267.796359\n",
      "min       0.000000        0.000000     19.000000\n",
      "25%       9.000000       36.087500    404.975000\n",
      "50%      30.000000       70.450000   1400.850000\n",
      "75%      56.000000       89.900000   3807.675000\n",
      "max     126.500000      170.618750   8911.725000\n"
     ]
    }
   ],
   "source": [
    "# Handling Outliers with IQR\n",
    "\n",
    "Q1 = (df_load[['tenure','MonthlyCharges','TotalCharges']]).quantile(0.25)\n",
    "Q3 = (df_load[['tenure','MonthlyCharges','TotalCharges']]).quantile(0.75)\n",
    "\n",
    "IQR = Q3 - Q1\n",
    "maximum = Q3 + (1.5*IQR)\n",
    "print('The Maximum Value of each Variable is: ')\n",
    "print(maximum)\n",
    "minimum = Q1 - (1.5*IQR)\n",
    "print('\\nThe Minimum Value of each Variable is: ')\n",
    "print(minimum)\n",
    "\n",
    "more_than = (df_load > maximum)\n",
    "lower_than = (df_load < minimum)\n",
    "df_load = df_load.mask(more_than, maximum, axis=1)\n",
    "df_load = df_load.mask(lower_than, minimum, axis=1)\n",
    "\n",
    "print('\\nDistribution of data after being handled by Outliers: ')\n",
    "print(df_load[['tenure','MonthlyCharges','TotalCharges']].describe())"
   ]
  },
  {
   "cell_type": "code",
   "execution_count": 40,
   "id": "0cc21b54",
   "metadata": {},
   "outputs": [
    {
     "data": {
      "image/png": "[encoded data removed]",
      "text/plain": [
       "<Figure size 432x288 with 1 Axes>"
      ]
     },
     "metadata": {
      "needs_background": "light"
     },
     "output_type": "display_data"
    },
    {
     "data": {
      "image/png": "[encoded data removed]",
      "text/plain": [
       "<Figure size 432x288 with 1 Axes>"
      ]
     },
     "metadata": {
      "needs_background": "light"
     },
     "output_type": "display_data"
    },
    {
     "data": {
      "image/png": "[encoded data removed]",
      "text/plain": [
       "<Figure size 432x288 with 1 Axes>"
      ]
     },
     "metadata": {
      "needs_background": "light"
     },
     "output_type": "display_data"
    }
   ],
   "source": [
    "# After\n",
    "\n",
    "plt.figure() \n",
    "sns.boxplot(x=df_load['tenure'])\n",
    "plt.show()\n",
    "plt.figure() \n",
    "sns.boxplot(x=df_load['MonthlyCharges'])\n",
    "plt.show()\n",
    "plt.figure() \n",
    "sns.boxplot(x=df_load['TotalCharges'])\n",
    "plt.show()"
   ]
  },
  {
   "cell_type": "markdown",
   "id": "2b38e09f",
   "metadata": {},
   "source": [
    "### Detecting Non-Standard Values"
   ]
  },
  {
   "cell_type": "code",
   "execution_count": 41,
   "id": "867fa859",
   "metadata": {},
   "outputs": [
    {
     "name": "stdout",
     "output_type": "stream",
     "text": [
      "\n",
      "Unique Values Count \u001b[1mBefore Standardized \u001b[0m Variable gender\n",
      "Male         3499\n",
      "Female       3431\n",
      "Wanita         14\n",
      "Laki-Laki       6\n",
      "Name: gender, dtype: int64\n",
      "\n",
      "Unique Values Count \u001b[1mBefore Standardized \u001b[0m Variable SeniorCitizen\n",
      "0    5822\n",
      "1    1128\n",
      "Name: SeniorCitizen, dtype: int64\n",
      "\n",
      "Unique Values Count \u001b[1mBefore Standardized \u001b[0m Variable Partner\n",
      "No     3591\n",
      "Yes    3359\n",
      "Name: Partner, dtype: int64\n",
      "\n",
      "Unique Values Count \u001b[1mBefore Standardized \u001b[0m Variable Dependents\n",
      "No     4870\n",
      "Yes    2060\n",
      "Iya      20\n",
      "Name: Dependents, dtype: int64\n",
      "\n",
      "Unique Values Count \u001b[1mBefore Standardized \u001b[0m Variable PhoneService\n",
      "Yes    6281\n",
      "No      669\n",
      "Name: PhoneService, dtype: int64\n",
      "\n",
      "Unique Values Count \u001b[1mBefore Standardized \u001b[0m Variable MultipleLines\n",
      "No                  3346\n",
      "Yes                 2935\n",
      "No phone service     669\n",
      "Name: MultipleLines, dtype: int64\n",
      "\n",
      "Unique Values Count \u001b[1mBefore Standardized \u001b[0m Variable InternetService\n",
      "Fiber optic    3057\n",
      "DSL            2388\n",
      "No             1505\n",
      "Name: InternetService, dtype: int64\n",
      "\n",
      "Unique Values Count \u001b[1mBefore Standardized \u001b[0m Variable OnlineSecurity\n",
      "No                     3454\n",
      "Yes                    1991\n",
      "No internet service    1505\n",
      "Name: OnlineSecurity, dtype: int64\n",
      "\n",
      "Unique Values Count \u001b[1mBefore Standardized \u001b[0m Variable OnlineBackup\n",
      "No                     3045\n",
      "Yes                    2400\n",
      "No internet service    1505\n",
      "Name: OnlineBackup, dtype: int64\n",
      "\n",
      "Unique Values Count \u001b[1mBefore Standardized \u001b[0m Variable DeviceProtection\n",
      "No                     3054\n",
      "Yes                    2391\n",
      "No internet service    1505\n",
      "Name: DeviceProtection, dtype: int64\n",
      "\n",
      "Unique Values Count \u001b[1mBefore Standardized \u001b[0m Variable TechSupport\n",
      "No                     3431\n",
      "Yes                    2014\n",
      "No internet service    1505\n",
      "Name: TechSupport, dtype: int64\n",
      "\n",
      "Unique Values Count \u001b[1mBefore Standardized \u001b[0m Variable StreamingTV\n",
      "No                     2774\n",
      "Yes                    2671\n",
      "No internet service    1505\n",
      "Name: StreamingTV, dtype: int64\n",
      "\n",
      "Unique Values Count \u001b[1mBefore Standardized \u001b[0m Variable StreamingMovies\n",
      "No                     2747\n",
      "Yes                    2698\n",
      "No internet service    1505\n",
      "Name: StreamingMovies, dtype: int64\n",
      "\n",
      "Unique Values Count \u001b[1mBefore Standardized \u001b[0m Variable Contract\n",
      "Month-to-month    3823\n",
      "Two year          1670\n",
      "One year          1457\n",
      "Name: Contract, dtype: int64\n",
      "\n",
      "Unique Values Count \u001b[1mBefore Standardized \u001b[0m Variable PaperlessBilling\n",
      "Yes    4114\n",
      "No     2836\n",
      "Name: PaperlessBilling, dtype: int64\n",
      "\n",
      "Unique Values Count \u001b[1mBefore Standardized \u001b[0m Variable PaymentMethod\n",
      "Electronic check             2337\n",
      "Mailed check                 1594\n",
      "Bank transfer (automatic)    1519\n",
      "Credit card (automatic)      1500\n",
      "Name: PaymentMethod, dtype: int64\n",
      "\n",
      "Unique Values Count \u001b[1mBefore Standardized \u001b[0m Variable Churn\n",
      "No       5114\n",
      "Yes      1827\n",
      "Churn       9\n",
      "Name: Churn, dtype: int64\n"
     ]
    }
   ],
   "source": [
    "for col_name in list(['gender','SeniorCitizen','Partner','Dependents','PhoneService','MultipleLines','InternetService','OnlineSecurity','OnlineBackup','DeviceProtection','TechSupport','StreamingTV','StreamingMovies','Contract','PaperlessBilling','PaymentMethod','Churn']):\n",
    "    print('\\nUnique Values Count \\033[1m' + 'Before Standardized \\033[0m Variable',col_name)\n",
    "    print(df_load[col_name].value_counts())"
   ]
  },
  {
   "cell_type": "markdown",
   "id": "e7f1c87e",
   "metadata": {},
   "source": [
    "### Standardizing Categorical Variables"
   ]
  },
  {
   "cell_type": "code",
   "execution_count": 42,
   "id": "07663acb",
   "metadata": {
    "scrolled": true
   },
   "outputs": [
    {
     "name": "stdout",
     "output_type": "stream",
     "text": [
      "\n",
      "Unique Values Count \u001b[1mAfter Standardized \u001b[0mVariable gender\n",
      "Male      3505\n",
      "Female    3445\n",
      "Name: gender, dtype: int64\n",
      "\n",
      "Unique Values Count \u001b[1mAfter Standardized \u001b[0mVariable Dependents\n",
      "No     4870\n",
      "Yes    2080\n",
      "Name: Dependents, dtype: int64\n",
      "\n",
      "Unique Values Count \u001b[1mAfter Standardized \u001b[0mVariable Churn\n",
      "No     5114\n",
      "Yes    1836\n",
      "Name: Churn, dtype: int64\n"
     ]
    }
   ],
   "source": [
    "df_load = df_load.replace(['Wanita','Laki-Laki','Churn','Iya'],['Female','Male','Yes','Yes'])\n",
    "\n",
    "for col_name in list(['gender','Dependents','Churn']):\n",
    "    print('\\nUnique Values Count \\033[1m' + 'After Standardized \\033[0mVariable',col_name)\n",
    "    print(df_load[col_name].value_counts())"
   ]
  },
  {
   "cell_type": "markdown",
   "id": "e8912ceb",
   "metadata": {},
   "source": [
    "### Conclusion\n",
    "\n",
    "There is no __Missing Value__, __Outliers__, and __Non-Standard Values__ after preparation the data (data cleansing). "
   ]
  }
 ],
 "metadata": {
  "kernelspec": {
   "display_name": "Python 3 (ipykernel)",
   "language": "python",
   "name": "python3"
  },
  "language_info": {
   "codemirror_mode": {
    "name": "ipython",
    "version": 3
   },
   "file_extension": ".py",
   "mimetype": "text/x-python",
   "name": "python",
   "nbconvert_exporter": "python",
   "pygments_lexer": "ipython3",
   "version": "3.10.2"
  }
 },
 "nbformat": 4,
 "nbformat_minor": 5
}
